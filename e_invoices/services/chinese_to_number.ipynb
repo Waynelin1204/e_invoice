{
 "cells": [
  {
   "cell_type": "code",
   "execution_count": 5,
   "id": "79ed818b",
   "metadata": {},
   "outputs": [
    {
     "name": "stdout",
     "output_type": "stream",
     "text": [
      "The numeric value is: 8600105\n"
     ]
    }
   ],
   "source": [
    "def chinese_to_number(chinese_str):\n",
    "    digits_map = {\n",
    "        \"零\": 0, \"壹\": 1, \"貳\": 2, \"參\": 3, \"肆\": 4,\n",
    "        \"伍\": 5, \"陸\": 6, \"柒\": 7, \"捌\": 8, \"玖\": 9\n",
    "    }\n",
    "    unit_map = {\n",
    "        \"拾\": 10, \"佰\": 100, \"仟\": 1000\n",
    "    }\n",
    "    big_unit_map = {\n",
    "        \"元\": 1, \"萬\": 10 ** 4, \"億\": 10 ** 8, \"兆\": 10 ** 12\n",
    "    }\n",
    "\n",
    "    # 去掉整、圓、元、角、分以外的尾部詞\n",
    "    chinese_str = chinese_str.replace(\"圓\", \"元\").replace(\"整\", \"\")\n",
    "\n",
    "    total = 0\n",
    "    section = 0\n",
    "    num = 0\n",
    "    i = 0\n",
    "    while i < len(chinese_str):\n",
    "        ch = chinese_str[i]\n",
    "        if ch in digits_map:\n",
    "            num = digits_map[ch]\n",
    "        elif ch in unit_map:\n",
    "            section += (num or 1) * unit_map[ch]\n",
    "            num = 0\n",
    "        elif ch in big_unit_map:\n",
    "            section += num\n",
    "            total += section * big_unit_map[ch]\n",
    "            section = 0\n",
    "            num = 0\n",
    "        elif ch == \"角\":\n",
    "            total += num * 0.1\n",
    "            num = 0\n",
    "        elif ch == \"分\":\n",
    "            total += num * 0.01\n",
    "            num = 0\n",
    "        i += 1\n",
    "\n",
    "    total += section + num\n",
    "    return round(total, 2)\n",
    "\n",
    "\n",
    "if __name__ == \"__main__\":\n",
    "    import sys\n",
    "    if len(sys.argv) != 2:\n",
    "        print(\"Usage: python chinese_to_number.py '<chinese_amount>'\")\n",
    "        sys.exit(1)\n",
    "\n",
    "    chinese_amount = \"捌佰陸拾萬零壹佰零伍元整\"\n",
    "    result = chinese_to_number(chinese_amount)\n",
    "    print(f\"The numeric value is: {result}\")"
   ]
  }
 ],
 "metadata": {
  "kernelspec": {
   "display_name": "Python 3",
   "language": "python",
   "name": "python3"
  },
  "language_info": {
   "codemirror_mode": {
    "name": "ipython",
    "version": 3
   },
   "file_extension": ".py",
   "mimetype": "text/x-python",
   "name": "python",
   "nbconvert_exporter": "python",
   "pygments_lexer": "ipython3",
   "version": "3.11.9"
  }
 },
 "nbformat": 4,
 "nbformat_minor": 5
}

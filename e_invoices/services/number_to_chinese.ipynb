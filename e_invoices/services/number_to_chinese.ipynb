{
 "cells": [
  {
   "cell_type": "code",
   "execution_count": 2,
   "id": "1c587082",
   "metadata": {},
   "outputs": [
    {
     "name": "stdout",
     "output_type": "stream",
     "text": [
      "參萬玖仟零陸拾元整\n"
     ]
    }
   ],
   "source": [
    "def number_to_chinese(amount_str):\n",
    "    amount_str = str(amount_str)\n",
    "    digits = \"零壹貳參肆伍陸柒捌玖\"\n",
    "    units = [\"\", \"拾\", \"佰\", \"仟\"]\n",
    "    big_units = [\"\", \"萬\", \"億\", \"兆\"]\n",
    "\n",
    "    integer_part, dot, decimal_part = amount_str.partition(\".\")\n",
    "    integer_part = integer_part.lstrip('0') or '0'\n",
    "\n",
    "    result = \"\"\n",
    "    group_count = (len(integer_part) + 3) // 4\n",
    "    integer_part = integer_part.zfill(group_count * 4)\n",
    "\n",
    "    prev_group_zero = False\n",
    "    has_output = False  # 標記是否已有數字輸出（防止開頭補零）\n",
    "\n",
    "    for group_idx in range(group_count):\n",
    "        group = integer_part[group_idx * 4: (group_idx + 1) * 4]\n",
    "        group_result = \"\"\n",
    "        local_zero_flag = False\n",
    "\n",
    "        for i, ch in enumerate(group):\n",
    "            num = int(ch)\n",
    "            unit = units[len(group) - i - 1]\n",
    "            if num == 0:\n",
    "                local_zero_flag = True\n",
    "            else:\n",
    "                if local_zero_flag:\n",
    "                    if has_output:  # 只有在已輸出過數字後才補零\n",
    "                        group_result += \"零\"\n",
    "                    local_zero_flag = False\n",
    "                group_result += digits[num] + unit\n",
    "                has_output = True\n",
    "\n",
    "        if group_result:\n",
    "            if prev_group_zero and has_output:\n",
    "                result += \"零\"\n",
    "                prev_group_zero = False\n",
    "            result += group_result + big_units[group_count - group_idx - 1]\n",
    "        else:\n",
    "            if has_output:  # 組全零，後續組還有數字時需補零\n",
    "                prev_group_zero = True\n",
    "\n",
    "    result = result.rstrip(\"零\")\n",
    "    result += \"元\"\n",
    "\n",
    "    # 小數部分\n",
    "    if decimal_part:\n",
    "        jiao = int(decimal_part[0]) if len(decimal_part) > 0 else 0\n",
    "        fen = int(decimal_part[1]) if len(decimal_part) > 1 else 0\n",
    "        if jiao == 0 and fen == 0:\n",
    "            result += \"整\"\n",
    "        else:\n",
    "            if jiao != 0:\n",
    "                result += digits[jiao] + \"角\"\n",
    "            if fen != 0:\n",
    "                result += digits[fen] + \"分\"\n",
    "    else:\n",
    "        result += \"整\"\n",
    "\n",
    "    return result\n",
    "\n",
    "if __name__ == \"__main__\":\n",
    "    import sys\n",
    "    if len(sys.argv) != 2:\n",
    "        print(\"用法: python number_to_chinese.py <金額>\")\n",
    "        sys.exit(1)\n",
    "    \n",
    "    amount_str = 39060\n",
    "    print(number_to_chinese(amount_str))"
   ]
  }
 ],
 "metadata": {
  "kernelspec": {
   "display_name": "Python 3",
   "language": "python",
   "name": "python3"
  },
  "language_info": {
   "codemirror_mode": {
    "name": "ipython",
    "version": 3
   },
   "file_extension": ".py",
   "mimetype": "text/x-python",
   "name": "python",
   "nbconvert_exporter": "python",
   "pygments_lexer": "ipython3",
   "version": "3.11.9"
  }
 },
 "nbformat": 4,
 "nbformat_minor": 5
}
